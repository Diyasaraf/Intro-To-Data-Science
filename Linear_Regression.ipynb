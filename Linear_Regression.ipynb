{
  "nbformat": 4,
  "nbformat_minor": 0,
  "metadata": {
    "colab": {
      "provenance": []
    },
    "kernelspec": {
      "name": "python3",
      "display_name": "Python 3"
    },
    "language_info": {
      "name": "python"
    }
  },
  "cells": [
    {
      "cell_type": "code",
      "source": [
        "import numpy as np\n",
        "import matplotlib.pyplot as plt"
      ],
      "metadata": {
        "id": "u6DyyI7MeYgE"
      },
      "execution_count": 1,
      "outputs": []
    },
    {
      "cell_type": "markdown",
      "source": [
        "#Linear Regression\n"
      ],
      "metadata": {
        "id": "6N_8T4KnfnOG"
      }
    },
    {
      "cell_type": "code",
      "source": [
        "# Generation of data points\n",
        "x = np.random.rand(100)*100\n",
        "y = -4*x+15\n",
        "y = y+np.random.randn(100)*30\n",
        "plt.scatter(x,y)"
      ],
      "metadata": {
        "id": "qK0CKt8WfuO9",
        "colab": {
          "base_uri": "https://localhost:8080/",
          "height": 447
        },
        "outputId": "922d0122-4c70-401c-ba85-3337c3ff89dd"
      },
      "execution_count": 2,
      "outputs": [
        {
          "output_type": "execute_result",
          "data": {
            "text/plain": [
              "<matplotlib.collections.PathCollection at 0x780a8d9b6ad0>"
            ]
          },
          "metadata": {},
          "execution_count": 2
        },
        {
          "output_type": "display_data",
          "data": {
            "text/plain": [
              "<Figure size 640x480 with 1 Axes>"
            ],
            "image/png": "[encoded data removed]"
          },
          "metadata": {}
        }
      ]
    },
    {
      "cell_type": "code",
      "source": [
        "m, c = -3, 12\n",
        "\n",
        "#Cost function to be minimised\n",
        "def cost_fn(m,c,x,y):\n",
        "  y_o = m*x+c\n",
        "  loss = np.sum(np.square(y_o-y))#Squared error\n",
        "  return loss/(np.shape(x)[0])\n",
        "\n",
        "#Function for updating parameter\n",
        "def update_params(m,c,learning_rate,x,y):\n",
        "  y_o = m*x+c\n",
        "  n = float(len(x))\n",
        "  Dm = -2*np.sum(x*(y-y_o))/n\n",
        "  Dc = -2*np.sum(y-y_o)/n\n",
        "  m = m - learning_rate*Dm\n",
        "  c = c - learning_rate*Dc\n",
        "\n",
        "  return m,c"
      ],
      "metadata": {
        "id": "0lyjPEfmiC-e"
      },
      "execution_count": 3,
      "outputs": []
    },
    {
      "cell_type": "markdown",
      "source": [
        "Run the model"
      ],
      "metadata": {
        "id": "JPy839WUiOvz"
      }
    },
    {
      "cell_type": "code",
      "source": [
        "epochs = 100000\n",
        "learning_rate =  0.0002\n",
        "for i in range(epochs):\n",
        "  loss=cost_fn(m,c,x,y)\n",
        "  m,c=update_params(m,c,learning_rate,x,y)"
      ],
      "metadata": {
        "id": "sf8s00SUiYhN"
      },
      "execution_count": 4,
      "outputs": []
    },
    {
      "cell_type": "code",
      "source": [
        "print(m,c)"
      ],
      "metadata": {
        "id": "_g7W3mloilGn",
        "colab": {
          "base_uri": "https://localhost:8080/"
        },
        "outputId": "c570efcd-6ecf-4e20-88d3-81cf7bd94173"
      },
      "execution_count": 5,
      "outputs": [
        {
          "output_type": "stream",
          "name": "stdout",
          "text": [
            "-4.009031162279918 19.93680866001422\n"
          ]
        }
      ]
    }
  ]
}